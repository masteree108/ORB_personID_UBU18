{
 "cells": [
  {
   "cell_type": "code",
   "execution_count": null,
   "id": "f2577855-9a2d-4463-addd-de5c2e3296bb",
   "metadata": {},
   "outputs": [],
   "source": [
    "import cv2\n",
    "import numpy as np\n",
    "import matplotlib.pyplot as plt\n",
    "import os"
   ]
  },
  {
   "cell_type": "code",
   "execution_count": null,
   "id": "95798ad2-66d8-4594-9830-1297845f1490",
   "metadata": {},
   "outputs": [],
   "source": [
    "cv2.__version__"
   ]
  },
  {
   "cell_type": "code",
   "execution_count": null,
   "id": "5ee08ed8-3a43-4e05-971f-c3412222b771",
   "metadata": {},
   "outputs": [],
   "source": [
    "# Super Resolution\n",
    "path = \"ESPCN/ESPCN_x4.pb\"\n",
    "sr = cv2.dnn_superres.DnnSuperResImpl_create()\n",
    "sr.readModel(path)\n",
    "sr.setModel(\"espcn\",4)"
   ]
  },
  {
   "cell_type": "code",
   "execution_count": null,
   "id": "9abe32e9-2ef5-433a-8b81-baca78d13837",
   "metadata": {},
   "outputs": [],
   "source": [
    "orb = cv2.ORB_create(nfeatures=1000)"
   ]
  },
  {
   "cell_type": "code",
   "execution_count": null,
   "id": "9039bf98-d202-4b32-9f68-1a40f8134365",
   "metadata": {},
   "outputs": [],
   "source": [
    "prev_path = \"previous_img/\"\n",
    "cur_path = \"current_img/\"\n",
    "prev_img = []\n",
    "cur_img = []\n",
    "prev_img_list = os.listdir(prev_path)\n",
    "print(prev_img_list)\n",
    "cur_img_list = os.listdir(cur_path)\n",
    "print(cur_img_list)\n",
    "#print('Total Classes Detected', len(pre_img_list))\n",
    "class_names = []\n",
    "\n",
    "for cl in prev_img_list:\n",
    "    img = cv2.imread(f'{prev_path}/{cl}',0)\n",
    "    img = sr.upsample(img)  # Super Resolution\n",
    "    img = cv2.pyrUp(img)\n",
    "    prev_img.append(img)\n",
    "    class_names.append(os.path.splitext(cl)[0])\n",
    "\n",
    "for cl in cur_img_list:\n",
    "    img = cv2.imread(f'{cur_path}/{cl}',0)\n",
    "    img = sr.upsample(img) # Super Resolution\n",
    "    img = cv2.pyrUp(img)\n",
    "    cur_img.append(img)\n",
    "    \n",
    "print(class_names)"
   ]
  },
  {
   "cell_type": "code",
   "execution_count": null,
   "id": "9ea0e61a-a2fc-4895-a163-d13a29181b30",
   "metadata": {},
   "outputs": [],
   "source": [
    "def findDes(images):\n",
    "    desList=[]\n",
    "    for img in images:\n",
    "        kp, des = orb.detectAndCompute(img, None)\n",
    "        desList.append(des)\n",
    "    return desList\n",
    "\n",
    "\n",
    "\n",
    "def findID(img, prev_desList, thres):\n",
    "    next_kpn, next_des = orb.detectAndCompute(img, None)\n",
    "    bf = cv2.BFMatcher()\n",
    "    matchList = []\n",
    "    finalVal = -1\n",
    "    try:\n",
    "        for p_des in prev_desList:\n",
    "            matches = bf.knnMatch(p_des, next_des, k=2)\n",
    "            good = []\n",
    "            for m, n in matches:\n",
    "                if m.distance <0.75 *n.distance:\n",
    "                    good.append([m])\n",
    "            #print(len(good))\n",
    "            matchList.append(len(good))\n",
    "        #print(matchList)\n",
    "    except:\n",
    "        print(\"pass\")\n",
    "        pass\n",
    "\n",
    "    if len(matchList)!=0:\n",
    "        if max(matchList) > thres:\n",
    "            finalVal = matchList.index(max(matchList))\n",
    "\n",
    "    return finalVal"
   ]
  },
  {
   "cell_type": "code",
   "execution_count": null,
   "id": "1fcb5468-3300-472d-8b6e-cdc2773bb814",
   "metadata": {},
   "outputs": [],
   "source": [
    "print(prev_img_list)"
   ]
  },
  {
   "cell_type": "code",
   "execution_count": null,
   "id": "8ffeacd2-3a95-4bd7-a1fc-fc1608ce9a68",
   "metadata": {},
   "outputs": [],
   "source": [
    "img_index = 1\n",
    "prev_desList = findDes(prev_img)\n",
    "rec_id = findID(cur_img[img_index], prev_desList, 1)\n",
    "\n",
    "print(\"bring current frame object: \" + cur_img_list[img_index] + \" to find objcet on the previous frame\")\n",
    "plt.imshow(cur_img[img_index])\n",
    "plt.show()\n",
    "if rec_id != -1:\n",
    "    regc = class_names[rec_id]\n",
    "    print(\"recognized: \" + regc)\n",
    "    plt.imshow(prev_img[class_names.index(regc)])\n",
    "    plt.show()\n",
    "else:\n",
    "    print(\"bring current frame object:\" + cur_img_list[img_index] + \" to find objcet on the previous frame\")\n",
    "    print(\"couldn't find this object on the previous frame\")"
   ]
  }
 ],
 "metadata": {
  "kernelspec": {
   "display_name": "Python 3",
   "language": "python",
   "name": "python3"
  },
  "language_info": {
   "codemirror_mode": {
    "name": "ipython",
    "version": 3
   },
   "file_extension": ".py",
   "mimetype": "text/x-python",
   "name": "python",
   "nbconvert_exporter": "python",
   "pygments_lexer": "ipython3",
   "version": "3.8.8"
  }
 },
 "nbformat": 4,
 "nbformat_minor": 5
}
